{
 "cells": [
  {
   "attachments": {},
   "cell_type": "markdown",
   "id": "5i1Du122jTeM",
   "metadata": {
    "id": "5i1Du122jTeM"
   },
   "source": [
    "# EasyVisa Project"
   ]
  },
  {
   "attachments": {},
   "cell_type": "markdown",
   "id": "2xUfZBo9JM9e",
   "metadata": {
    "id": "2xUfZBo9JM9e"
   },
   "source": [
    "# Problem Statement"
   ]
  },
  {
   "cell_type": "markdown",
   "id": "empty-shanghai",
   "metadata": {
    "id": "empty-shanghai"
   },
   "source": [
    "### Context:\n",
    "\n",
    "Business communities in the United States are facing high demand for human resources, but one of the constant challenges is identifying and attracting the right talent, which is perhaps the most important element in remaining competitive. Companies in the United States look for hard-working, talented, and qualified individuals both locally as well as abroad.\n",
    "\n",
    "The Immigration and Nationality Act (INA) of the US permits foreign workers to come to the United States to work on either a temporary or permanent basis. The act also protects US workers against adverse impacts on their wages or working conditions by ensuring US employers' compliance with statutory requirements when they hire foreign workers to fill workforce shortages. The immigration programs are administered by the Office of Foreign Labor Certification (OFLC).\n",
    "\n",
    "OFLC processes job certification applications for employers seeking to bring foreign workers into the United States and grants certifications in those cases where employers can demonstrate that there are not sufficient US workers available to perform the work at wages that meet or exceed the wage paid for the occupation in the area of intended employment.\n",
    "\n",
    "### Objective:\n",
    "\n",
    "In FY 2016, the OFLC processed 775,979 employer applications for 1,699,957 positions for temporary and permanent labor certifications. This was a nine percent increase in the overall number of processed applications from the previous year. The process of reviewing every case is becoming a tedious task as the number of applicants is increasing every year.\n",
    "\n",
    "The increasing number of applicants every year calls for a Machine Learning based solution that can help in shortlisting the candidates having higher chances of VISA approval. OFLC has hired the firm EasyVisa for data-driven solutions. You as a data  scientist at EasyVisa have to analyze the data provided and, with the help of a classification model:\n",
    "\n",
    "* Facilitate the process of visa approvals.\n",
    "* Recommend a suitable profile for the applicants for whom the visa should be certified or denied based on the drivers that significantly influence the case status. \n",
    "\n",
    "### Data Description\n",
    "\n",
    "The data contains the different attributes of employee and the employer. The detailed data dictionary is given below.\n",
    "\n",
    "* case_id: ID of each visa application\n",
    "* continent: Information of continent the employee\n",
    "* education_of_employee: Information of education of the employee\n",
    "* has_job_experience: Does the employee has any job experience? Y= Yes; N = No\n",
    "* requires_job_training: Does the employee require any job training? Y = Yes; N = No \n",
    "* no_of_employees: Number of employees in the employer's company\n",
    "* yr_of_estab: Year in which the employer's company was established\n",
    "* region_of_employment: Information of foreign worker's intended region of employment in the US.\n",
    "* prevailing_wage:  Average wage paid to similarly employed workers in a specific occupation in the area of intended employment. The purpose of the prevailing wage is to ensure that the foreign worker is not underpaid compared to other workers offering the same or similar service in the same area of employment. \n",
    "* unit_of_wage: Unit of prevailing wage. Values include Hourly, Weekly, Monthly, and Yearly.\n",
    "* full_time_position: Is the position of work full-time? Y = Full Time Position; N = Part Time Position\n",
    "* case_status:  Flag indicating if the Visa was certified or denied"
   ]
  },
  {
   "cell_type": "markdown",
   "id": "c1cd4628",
   "metadata": {
    "id": "c1cd4628"
   },
   "source": [
    "## Importing necessary libraries"
   ]
  },
  {
   "cell_type": "code",
   "execution_count": 1,
   "id": "canadian-maple",
   "metadata": {
    "colab": {
     "base_uri": "https://localhost:8080/",
     "height": 554
    },
    "id": "canadian-maple",
    "outputId": "2e2d6b3b-6f98-418d-b22a-2a07c2294b84"
   },
   "outputs": [],
   "source": [
    "# this will help in making the Python code more structured automatically (good coding practice)\n",
    "# %load_ext nb_black\n",
    "\n",
    "import warnings\n",
    "\n",
    "warnings.filterwarnings(\"ignore\")\n",
    "\n",
    "# Libraries to help with reading and manipulating data\n",
    "import numpy as np\n",
    "import pandas as pd\n",
    "\n",
    "\n",
    "# libaries to help with data visualization\n",
    "import matplotlib.pyplot as plt\n",
    "import seaborn as sns\n",
    "\n",
    "# Removes the limit for the number of displayed columns\n",
    "pd.set_option(\"display.max_columns\", None)\n",
    "# Sets the limit for the number of displayed rows\n",
    "pd.set_option(\"display.max_rows\", 100)\n",
    "\n",
    "# Library to split data\n",
    "from sklearn.model_selection import train_test_split\n"
   ]
  },
  {
   "cell_type": "code",
   "execution_count": 2,
   "id": "185db487",
   "metadata": {},
   "outputs": [],
   "source": [
    " \n",
    "from scripts.plots import histogram_boxplot, labeled_barplot, distribution_plot_wrt_target, stacked_barplot"
   ]
  },
  {
   "cell_type": "markdown",
   "id": "thorough-passion",
   "metadata": {
    "id": "thorough-passion"
   },
   "source": [
    "## Importing Dataset"
   ]
  },
  {
   "cell_type": "code",
   "execution_count": 3,
   "id": "alleged-teaching",
   "metadata": {
    "id": "alleged-teaching"
   },
   "outputs": [],
   "source": [
    "visa = pd.read_csv('data/EasyVisa.csv') ##  Fill the blank to read the data"
   ]
  },
  {
   "cell_type": "code",
   "execution_count": 4,
   "id": "falling-annual",
   "metadata": {
    "id": "falling-annual"
   },
   "outputs": [],
   "source": [
    "# copying data to another variable to avoid any changes to original data\n",
    "data = visa.copy()"
   ]
  },
  {
   "cell_type": "markdown",
   "id": "6vlJXoQkgcGI",
   "metadata": {
    "id": "6vlJXoQkgcGI"
   },
   "source": [
    "## Overview of the Dataset"
   ]
  },
  {
   "cell_type": "markdown",
   "id": "aboriginal-wrist",
   "metadata": {
    "id": "aboriginal-wrist"
   },
   "source": [
    "### View the first and last 5 rows of the dataset"
   ]
  },
  {
   "cell_type": "code",
   "execution_count": 5,
   "id": "judicial-lease",
   "metadata": {
    "id": "judicial-lease"
   },
   "outputs": [
    {
     "data": {
      "text/html": [
       "<div>\n",
       "<style scoped>\n",
       "    .dataframe tbody tr th:only-of-type {\n",
       "        vertical-align: middle;\n",
       "    }\n",
       "\n",
       "    .dataframe tbody tr th {\n",
       "        vertical-align: top;\n",
       "    }\n",
       "\n",
       "    .dataframe thead th {\n",
       "        text-align: right;\n",
       "    }\n",
       "</style>\n",
       "<table border=\"1\" class=\"dataframe\">\n",
       "  <thead>\n",
       "    <tr style=\"text-align: right;\">\n",
       "      <th></th>\n",
       "      <th>case_id</th>\n",
       "      <th>continent</th>\n",
       "      <th>education_of_employee</th>\n",
       "      <th>has_job_experience</th>\n",
       "      <th>requires_job_training</th>\n",
       "      <th>no_of_employees</th>\n",
       "      <th>yr_of_estab</th>\n",
       "      <th>region_of_employment</th>\n",
       "      <th>prevailing_wage</th>\n",
       "      <th>unit_of_wage</th>\n",
       "      <th>full_time_position</th>\n",
       "      <th>case_status</th>\n",
       "    </tr>\n",
       "  </thead>\n",
       "  <tbody>\n",
       "    <tr>\n",
       "      <th>0</th>\n",
       "      <td>EZYV01</td>\n",
       "      <td>Asia</td>\n",
       "      <td>High School</td>\n",
       "      <td>N</td>\n",
       "      <td>N</td>\n",
       "      <td>14513</td>\n",
       "      <td>2007</td>\n",
       "      <td>West</td>\n",
       "      <td>592.2029</td>\n",
       "      <td>Hour</td>\n",
       "      <td>Y</td>\n",
       "      <td>Denied</td>\n",
       "    </tr>\n",
       "    <tr>\n",
       "      <th>1</th>\n",
       "      <td>EZYV02</td>\n",
       "      <td>Asia</td>\n",
       "      <td>Master's</td>\n",
       "      <td>Y</td>\n",
       "      <td>N</td>\n",
       "      <td>2412</td>\n",
       "      <td>2002</td>\n",
       "      <td>Northeast</td>\n",
       "      <td>83425.6500</td>\n",
       "      <td>Year</td>\n",
       "      <td>Y</td>\n",
       "      <td>Certified</td>\n",
       "    </tr>\n",
       "    <tr>\n",
       "      <th>2</th>\n",
       "      <td>EZYV03</td>\n",
       "      <td>Asia</td>\n",
       "      <td>Bachelor's</td>\n",
       "      <td>N</td>\n",
       "      <td>Y</td>\n",
       "      <td>44444</td>\n",
       "      <td>2008</td>\n",
       "      <td>West</td>\n",
       "      <td>122996.8600</td>\n",
       "      <td>Year</td>\n",
       "      <td>Y</td>\n",
       "      <td>Denied</td>\n",
       "    </tr>\n",
       "    <tr>\n",
       "      <th>3</th>\n",
       "      <td>EZYV04</td>\n",
       "      <td>Asia</td>\n",
       "      <td>Bachelor's</td>\n",
       "      <td>N</td>\n",
       "      <td>N</td>\n",
       "      <td>98</td>\n",
       "      <td>1897</td>\n",
       "      <td>West</td>\n",
       "      <td>83434.0300</td>\n",
       "      <td>Year</td>\n",
       "      <td>Y</td>\n",
       "      <td>Denied</td>\n",
       "    </tr>\n",
       "    <tr>\n",
       "      <th>4</th>\n",
       "      <td>EZYV05</td>\n",
       "      <td>Africa</td>\n",
       "      <td>Master's</td>\n",
       "      <td>Y</td>\n",
       "      <td>N</td>\n",
       "      <td>1082</td>\n",
       "      <td>2005</td>\n",
       "      <td>South</td>\n",
       "      <td>149907.3900</td>\n",
       "      <td>Year</td>\n",
       "      <td>Y</td>\n",
       "      <td>Certified</td>\n",
       "    </tr>\n",
       "  </tbody>\n",
       "</table>\n",
       "</div>"
      ],
      "text/plain": [
       "  case_id continent education_of_employee has_job_experience  \\\n",
       "0  EZYV01      Asia           High School                  N   \n",
       "1  EZYV02      Asia              Master's                  Y   \n",
       "2  EZYV03      Asia            Bachelor's                  N   \n",
       "3  EZYV04      Asia            Bachelor's                  N   \n",
       "4  EZYV05    Africa              Master's                  Y   \n",
       "\n",
       "  requires_job_training  no_of_employees  yr_of_estab region_of_employment  \\\n",
       "0                     N            14513         2007                 West   \n",
       "1                     N             2412         2002            Northeast   \n",
       "2                     Y            44444         2008                 West   \n",
       "3                     N               98         1897                 West   \n",
       "4                     N             1082         2005                South   \n",
       "\n",
       "   prevailing_wage unit_of_wage full_time_position case_status  \n",
       "0         592.2029         Hour                  Y      Denied  \n",
       "1       83425.6500         Year                  Y   Certified  \n",
       "2      122996.8600         Year                  Y      Denied  \n",
       "3       83434.0300         Year                  Y      Denied  \n",
       "4      149907.3900         Year                  Y   Certified  "
      ]
     },
     "execution_count": 5,
     "metadata": {},
     "output_type": "execute_result"
    }
   ],
   "source": [
    "data.head(5) ##   view top 5 rows of the data"
   ]
  },
  {
   "cell_type": "code",
   "execution_count": 6,
   "id": "descending-david",
   "metadata": {
    "id": "descending-david"
   },
   "outputs": [
    {
     "data": {
      "text/html": [
       "<div>\n",
       "<style scoped>\n",
       "    .dataframe tbody tr th:only-of-type {\n",
       "        vertical-align: middle;\n",
       "    }\n",
       "\n",
       "    .dataframe tbody tr th {\n",
       "        vertical-align: top;\n",
       "    }\n",
       "\n",
       "    .dataframe thead th {\n",
       "        text-align: right;\n",
       "    }\n",
       "</style>\n",
       "<table border=\"1\" class=\"dataframe\">\n",
       "  <thead>\n",
       "    <tr style=\"text-align: right;\">\n",
       "      <th></th>\n",
       "      <th>case_id</th>\n",
       "      <th>continent</th>\n",
       "      <th>education_of_employee</th>\n",
       "      <th>has_job_experience</th>\n",
       "      <th>requires_job_training</th>\n",
       "      <th>no_of_employees</th>\n",
       "      <th>yr_of_estab</th>\n",
       "      <th>region_of_employment</th>\n",
       "      <th>prevailing_wage</th>\n",
       "      <th>unit_of_wage</th>\n",
       "      <th>full_time_position</th>\n",
       "      <th>case_status</th>\n",
       "    </tr>\n",
       "  </thead>\n",
       "  <tbody>\n",
       "    <tr>\n",
       "      <th>25475</th>\n",
       "      <td>EZYV25476</td>\n",
       "      <td>Asia</td>\n",
       "      <td>Bachelor's</td>\n",
       "      <td>Y</td>\n",
       "      <td>Y</td>\n",
       "      <td>2601</td>\n",
       "      <td>2008</td>\n",
       "      <td>South</td>\n",
       "      <td>77092.57</td>\n",
       "      <td>Year</td>\n",
       "      <td>Y</td>\n",
       "      <td>Certified</td>\n",
       "    </tr>\n",
       "    <tr>\n",
       "      <th>25476</th>\n",
       "      <td>EZYV25477</td>\n",
       "      <td>Asia</td>\n",
       "      <td>High School</td>\n",
       "      <td>Y</td>\n",
       "      <td>N</td>\n",
       "      <td>3274</td>\n",
       "      <td>2006</td>\n",
       "      <td>Northeast</td>\n",
       "      <td>279174.79</td>\n",
       "      <td>Year</td>\n",
       "      <td>Y</td>\n",
       "      <td>Certified</td>\n",
       "    </tr>\n",
       "    <tr>\n",
       "      <th>25477</th>\n",
       "      <td>EZYV25478</td>\n",
       "      <td>Asia</td>\n",
       "      <td>Master's</td>\n",
       "      <td>Y</td>\n",
       "      <td>N</td>\n",
       "      <td>1121</td>\n",
       "      <td>1910</td>\n",
       "      <td>South</td>\n",
       "      <td>146298.85</td>\n",
       "      <td>Year</td>\n",
       "      <td>N</td>\n",
       "      <td>Certified</td>\n",
       "    </tr>\n",
       "    <tr>\n",
       "      <th>25478</th>\n",
       "      <td>EZYV25479</td>\n",
       "      <td>Asia</td>\n",
       "      <td>Master's</td>\n",
       "      <td>Y</td>\n",
       "      <td>Y</td>\n",
       "      <td>1918</td>\n",
       "      <td>1887</td>\n",
       "      <td>West</td>\n",
       "      <td>86154.77</td>\n",
       "      <td>Year</td>\n",
       "      <td>Y</td>\n",
       "      <td>Certified</td>\n",
       "    </tr>\n",
       "    <tr>\n",
       "      <th>25479</th>\n",
       "      <td>EZYV25480</td>\n",
       "      <td>Asia</td>\n",
       "      <td>Bachelor's</td>\n",
       "      <td>Y</td>\n",
       "      <td>N</td>\n",
       "      <td>3195</td>\n",
       "      <td>1960</td>\n",
       "      <td>Midwest</td>\n",
       "      <td>70876.91</td>\n",
       "      <td>Year</td>\n",
       "      <td>Y</td>\n",
       "      <td>Certified</td>\n",
       "    </tr>\n",
       "  </tbody>\n",
       "</table>\n",
       "</div>"
      ],
      "text/plain": [
       "         case_id continent education_of_employee has_job_experience  \\\n",
       "25475  EZYV25476      Asia            Bachelor's                  Y   \n",
       "25476  EZYV25477      Asia           High School                  Y   \n",
       "25477  EZYV25478      Asia              Master's                  Y   \n",
       "25478  EZYV25479      Asia              Master's                  Y   \n",
       "25479  EZYV25480      Asia            Bachelor's                  Y   \n",
       "\n",
       "      requires_job_training  no_of_employees  yr_of_estab  \\\n",
       "25475                     Y             2601         2008   \n",
       "25476                     N             3274         2006   \n",
       "25477                     N             1121         1910   \n",
       "25478                     Y             1918         1887   \n",
       "25479                     N             3195         1960   \n",
       "\n",
       "      region_of_employment  prevailing_wage unit_of_wage full_time_position  \\\n",
       "25475                South         77092.57         Year                  Y   \n",
       "25476            Northeast        279174.79         Year                  Y   \n",
       "25477                South        146298.85         Year                  N   \n",
       "25478                 West         86154.77         Year                  Y   \n",
       "25479              Midwest         70876.91         Year                  Y   \n",
       "\n",
       "      case_status  \n",
       "25475   Certified  \n",
       "25476   Certified  \n",
       "25477   Certified  \n",
       "25478   Certified  \n",
       "25479   Certified  "
      ]
     },
     "execution_count": 6,
     "metadata": {},
     "output_type": "execute_result"
    }
   ],
   "source": [
    "data.tail(5) ##   view last 5 rows of the data  "
   ]
  },
  {
   "cell_type": "markdown",
   "id": "accessory-camel",
   "metadata": {
    "id": "accessory-camel"
   },
   "source": [
    "### Understand the shape of the dataset"
   ]
  },
  {
   "cell_type": "code",
   "execution_count": 7,
   "id": "regulation-elder",
   "metadata": {
    "id": "regulation-elder"
   },
   "outputs": [
    {
     "data": {
      "text/plain": [
       "(25480, 12)"
      ]
     },
     "execution_count": 7,
     "metadata": {},
     "output_type": "execute_result"
    }
   ],
   "source": [
    "data.shape ##   view dimensions of the data"
   ]
  },
  {
   "cell_type": "markdown",
   "id": "assigned-berkeley",
   "metadata": {
    "id": "assigned-berkeley"
   },
   "source": [
    "### Check the data types of the columns for the dataset"
   ]
  },
  {
   "cell_type": "code",
   "execution_count": 8,
   "id": "judicial-institute",
   "metadata": {
    "id": "judicial-institute"
   },
   "outputs": [
    {
     "name": "stdout",
     "output_type": "stream",
     "text": [
      "<class 'pandas.core.frame.DataFrame'>\n",
      "RangeIndex: 25480 entries, 0 to 25479\n",
      "Data columns (total 12 columns):\n",
      " #   Column                 Non-Null Count  Dtype  \n",
      "---  ------                 --------------  -----  \n",
      " 0   case_id                25480 non-null  object \n",
      " 1   continent              25480 non-null  object \n",
      " 2   education_of_employee  25480 non-null  object \n",
      " 3   has_job_experience     25480 non-null  object \n",
      " 4   requires_job_training  25480 non-null  object \n",
      " 5   no_of_employees        25480 non-null  int64  \n",
      " 6   yr_of_estab            25480 non-null  int64  \n",
      " 7   region_of_employment   25480 non-null  object \n",
      " 8   prevailing_wage        25480 non-null  float64\n",
      " 9   unit_of_wage           25480 non-null  object \n",
      " 10  full_time_position     25480 non-null  object \n",
      " 11  case_status            25480 non-null  object \n",
      "dtypes: float64(1), int64(2), object(9)\n",
      "memory usage: 2.3+ MB\n"
     ]
    }
   ],
   "source": [
    "data.info()"
   ]
  },
  {
   "cell_type": "code",
   "execution_count": 9,
   "id": "going-validation",
   "metadata": {
    "id": "going-validation"
   },
   "outputs": [
    {
     "data": {
      "text/html": [
       "<div>\n",
       "<style scoped>\n",
       "    .dataframe tbody tr th:only-of-type {\n",
       "        vertical-align: middle;\n",
       "    }\n",
       "\n",
       "    .dataframe tbody tr th {\n",
       "        vertical-align: top;\n",
       "    }\n",
       "\n",
       "    .dataframe thead th {\n",
       "        text-align: right;\n",
       "    }\n",
       "</style>\n",
       "<table border=\"1\" class=\"dataframe\">\n",
       "  <thead>\n",
       "    <tr style=\"text-align: right;\">\n",
       "      <th></th>\n",
       "      <th>case_id</th>\n",
       "      <th>continent</th>\n",
       "      <th>education_of_employee</th>\n",
       "      <th>has_job_experience</th>\n",
       "      <th>requires_job_training</th>\n",
       "      <th>no_of_employees</th>\n",
       "      <th>yr_of_estab</th>\n",
       "      <th>region_of_employment</th>\n",
       "      <th>prevailing_wage</th>\n",
       "      <th>unit_of_wage</th>\n",
       "      <th>full_time_position</th>\n",
       "      <th>case_status</th>\n",
       "    </tr>\n",
       "  </thead>\n",
       "  <tbody>\n",
       "  </tbody>\n",
       "</table>\n",
       "</div>"
      ],
      "text/plain": [
       "Empty DataFrame\n",
       "Columns: [case_id, continent, education_of_employee, has_job_experience, requires_job_training, no_of_employees, yr_of_estab, region_of_employment, prevailing_wage, unit_of_wage, full_time_position, case_status]\n",
       "Index: []"
      ]
     },
     "execution_count": 9,
     "metadata": {},
     "output_type": "execute_result"
    }
   ],
   "source": [
    "# checking for duplicate values\n",
    "data[data.duplicated()]"
   ]
  },
  {
   "cell_type": "markdown",
   "id": "standing-horizontal",
   "metadata": {
    "id": "standing-horizontal"
   },
   "source": [
    "## Exploratory Data Analysis"
   ]
  },
  {
   "cell_type": "markdown",
   "id": "american-venue",
   "metadata": {
    "id": "american-venue"
   },
   "source": [
    "#### Let's check the statistical summary of the data"
   ]
  },
  {
   "cell_type": "code",
   "execution_count": 10,
   "id": "premium-wagner",
   "metadata": {
    "id": "premium-wagner"
   },
   "outputs": [
    {
     "data": {
      "text/html": [
       "<div>\n",
       "<style scoped>\n",
       "    .dataframe tbody tr th:only-of-type {\n",
       "        vertical-align: middle;\n",
       "    }\n",
       "\n",
       "    .dataframe tbody tr th {\n",
       "        vertical-align: top;\n",
       "    }\n",
       "\n",
       "    .dataframe thead th {\n",
       "        text-align: right;\n",
       "    }\n",
       "</style>\n",
       "<table border=\"1\" class=\"dataframe\">\n",
       "  <thead>\n",
       "    <tr style=\"text-align: right;\">\n",
       "      <th></th>\n",
       "      <th>no_of_employees</th>\n",
       "      <th>yr_of_estab</th>\n",
       "      <th>prevailing_wage</th>\n",
       "    </tr>\n",
       "  </thead>\n",
       "  <tbody>\n",
       "    <tr>\n",
       "      <th>count</th>\n",
       "      <td>25480.000000</td>\n",
       "      <td>25480.000000</td>\n",
       "      <td>25480.000000</td>\n",
       "    </tr>\n",
       "    <tr>\n",
       "      <th>mean</th>\n",
       "      <td>5667.043210</td>\n",
       "      <td>1979.409929</td>\n",
       "      <td>74455.814592</td>\n",
       "    </tr>\n",
       "    <tr>\n",
       "      <th>std</th>\n",
       "      <td>22877.928848</td>\n",
       "      <td>42.366929</td>\n",
       "      <td>52815.942327</td>\n",
       "    </tr>\n",
       "    <tr>\n",
       "      <th>min</th>\n",
       "      <td>-26.000000</td>\n",
       "      <td>1800.000000</td>\n",
       "      <td>2.136700</td>\n",
       "    </tr>\n",
       "    <tr>\n",
       "      <th>25%</th>\n",
       "      <td>1022.000000</td>\n",
       "      <td>1976.000000</td>\n",
       "      <td>34015.480000</td>\n",
       "    </tr>\n",
       "    <tr>\n",
       "      <th>50%</th>\n",
       "      <td>2109.000000</td>\n",
       "      <td>1997.000000</td>\n",
       "      <td>70308.210000</td>\n",
       "    </tr>\n",
       "    <tr>\n",
       "      <th>75%</th>\n",
       "      <td>3504.000000</td>\n",
       "      <td>2005.000000</td>\n",
       "      <td>107735.512500</td>\n",
       "    </tr>\n",
       "    <tr>\n",
       "      <th>max</th>\n",
       "      <td>602069.000000</td>\n",
       "      <td>2016.000000</td>\n",
       "      <td>319210.270000</td>\n",
       "    </tr>\n",
       "  </tbody>\n",
       "</table>\n",
       "</div>"
      ],
      "text/plain": [
       "       no_of_employees   yr_of_estab  prevailing_wage\n",
       "count     25480.000000  25480.000000     25480.000000\n",
       "mean       5667.043210   1979.409929     74455.814592\n",
       "std       22877.928848     42.366929     52815.942327\n",
       "min         -26.000000   1800.000000         2.136700\n",
       "25%        1022.000000   1976.000000     34015.480000\n",
       "50%        2109.000000   1997.000000     70308.210000\n",
       "75%        3504.000000   2005.000000    107735.512500\n",
       "max      602069.000000   2016.000000    319210.270000"
      ]
     },
     "execution_count": 10,
     "metadata": {},
     "output_type": "execute_result"
    }
   ],
   "source": [
    "data.describe() ##   print the statistical summary of the data"
   ]
  },
  {
   "cell_type": "markdown",
   "id": "competent-timing",
   "metadata": {
    "id": "competent-timing"
   },
   "source": [
    "#### Fixing the negative values in number of employees columns"
   ]
  },
  {
   "cell_type": "code",
   "execution_count": 11,
   "id": "whole-saying",
   "metadata": {
    "id": "whole-saying"
   },
   "outputs": [
    {
     "data": {
      "text/html": [
       "<div>\n",
       "<style scoped>\n",
       "    .dataframe tbody tr th:only-of-type {\n",
       "        vertical-align: middle;\n",
       "    }\n",
       "\n",
       "    .dataframe tbody tr th {\n",
       "        vertical-align: top;\n",
       "    }\n",
       "\n",
       "    .dataframe thead th {\n",
       "        text-align: right;\n",
       "    }\n",
       "</style>\n",
       "<table border=\"1\" class=\"dataframe\">\n",
       "  <thead>\n",
       "    <tr style=\"text-align: right;\">\n",
       "      <th></th>\n",
       "      <th>case_id</th>\n",
       "      <th>continent</th>\n",
       "      <th>education_of_employee</th>\n",
       "      <th>has_job_experience</th>\n",
       "      <th>requires_job_training</th>\n",
       "      <th>no_of_employees</th>\n",
       "      <th>yr_of_estab</th>\n",
       "      <th>region_of_employment</th>\n",
       "      <th>prevailing_wage</th>\n",
       "      <th>unit_of_wage</th>\n",
       "      <th>full_time_position</th>\n",
       "      <th>case_status</th>\n",
       "    </tr>\n",
       "  </thead>\n",
       "  <tbody>\n",
       "    <tr>\n",
       "      <th>245</th>\n",
       "      <td>EZYV246</td>\n",
       "      <td>Europe</td>\n",
       "      <td>Master's</td>\n",
       "      <td>N</td>\n",
       "      <td>N</td>\n",
       "      <td>-25</td>\n",
       "      <td>1980</td>\n",
       "      <td>Northeast</td>\n",
       "      <td>39452.9900</td>\n",
       "      <td>Year</td>\n",
       "      <td>Y</td>\n",
       "      <td>Certified</td>\n",
       "    </tr>\n",
       "    <tr>\n",
       "      <th>378</th>\n",
       "      <td>EZYV379</td>\n",
       "      <td>Asia</td>\n",
       "      <td>Bachelor's</td>\n",
       "      <td>N</td>\n",
       "      <td>Y</td>\n",
       "      <td>-11</td>\n",
       "      <td>2011</td>\n",
       "      <td>Northeast</td>\n",
       "      <td>32506.1400</td>\n",
       "      <td>Year</td>\n",
       "      <td>Y</td>\n",
       "      <td>Denied</td>\n",
       "    </tr>\n",
       "    <tr>\n",
       "      <th>832</th>\n",
       "      <td>EZYV833</td>\n",
       "      <td>South America</td>\n",
       "      <td>Master's</td>\n",
       "      <td>Y</td>\n",
       "      <td>N</td>\n",
       "      <td>-17</td>\n",
       "      <td>2002</td>\n",
       "      <td>South</td>\n",
       "      <td>129701.9400</td>\n",
       "      <td>Year</td>\n",
       "      <td>Y</td>\n",
       "      <td>Certified</td>\n",
       "    </tr>\n",
       "    <tr>\n",
       "      <th>2918</th>\n",
       "      <td>EZYV2919</td>\n",
       "      <td>Asia</td>\n",
       "      <td>Master's</td>\n",
       "      <td>Y</td>\n",
       "      <td>N</td>\n",
       "      <td>-26</td>\n",
       "      <td>2005</td>\n",
       "      <td>Midwest</td>\n",
       "      <td>112799.4600</td>\n",
       "      <td>Year</td>\n",
       "      <td>Y</td>\n",
       "      <td>Certified</td>\n",
       "    </tr>\n",
       "    <tr>\n",
       "      <th>6439</th>\n",
       "      <td>EZYV6440</td>\n",
       "      <td>Asia</td>\n",
       "      <td>Bachelor's</td>\n",
       "      <td>N</td>\n",
       "      <td>N</td>\n",
       "      <td>-14</td>\n",
       "      <td>2013</td>\n",
       "      <td>South</td>\n",
       "      <td>103.9700</td>\n",
       "      <td>Hour</td>\n",
       "      <td>Y</td>\n",
       "      <td>Denied</td>\n",
       "    </tr>\n",
       "    <tr>\n",
       "      <th>6634</th>\n",
       "      <td>EZYV6635</td>\n",
       "      <td>Asia</td>\n",
       "      <td>Bachelor's</td>\n",
       "      <td>Y</td>\n",
       "      <td>N</td>\n",
       "      <td>-26</td>\n",
       "      <td>1923</td>\n",
       "      <td>West</td>\n",
       "      <td>5247.3200</td>\n",
       "      <td>Year</td>\n",
       "      <td>Y</td>\n",
       "      <td>Denied</td>\n",
       "    </tr>\n",
       "    <tr>\n",
       "      <th>7224</th>\n",
       "      <td>EZYV7225</td>\n",
       "      <td>Europe</td>\n",
       "      <td>Doctorate</td>\n",
       "      <td>N</td>\n",
       "      <td>N</td>\n",
       "      <td>-25</td>\n",
       "      <td>1998</td>\n",
       "      <td>Midwest</td>\n",
       "      <td>141435.9500</td>\n",
       "      <td>Year</td>\n",
       "      <td>Y</td>\n",
       "      <td>Certified</td>\n",
       "    </tr>\n",
       "    <tr>\n",
       "      <th>7281</th>\n",
       "      <td>EZYV7282</td>\n",
       "      <td>Asia</td>\n",
       "      <td>High School</td>\n",
       "      <td>N</td>\n",
       "      <td>N</td>\n",
       "      <td>-14</td>\n",
       "      <td>2000</td>\n",
       "      <td>Midwest</td>\n",
       "      <td>58488.5000</td>\n",
       "      <td>Year</td>\n",
       "      <td>Y</td>\n",
       "      <td>Denied</td>\n",
       "    </tr>\n",
       "    <tr>\n",
       "      <th>7318</th>\n",
       "      <td>EZYV7319</td>\n",
       "      <td>Asia</td>\n",
       "      <td>Bachelor's</td>\n",
       "      <td>Y</td>\n",
       "      <td>Y</td>\n",
       "      <td>-26</td>\n",
       "      <td>2006</td>\n",
       "      <td>South</td>\n",
       "      <td>115005.6100</td>\n",
       "      <td>Year</td>\n",
       "      <td>Y</td>\n",
       "      <td>Certified</td>\n",
       "    </tr>\n",
       "    <tr>\n",
       "      <th>7761</th>\n",
       "      <td>EZYV7762</td>\n",
       "      <td>Asia</td>\n",
       "      <td>Master's</td>\n",
       "      <td>N</td>\n",
       "      <td>N</td>\n",
       "      <td>-11</td>\n",
       "      <td>2009</td>\n",
       "      <td>Midwest</td>\n",
       "      <td>38457.5100</td>\n",
       "      <td>Year</td>\n",
       "      <td>Y</td>\n",
       "      <td>Certified</td>\n",
       "    </tr>\n",
       "    <tr>\n",
       "      <th>9872</th>\n",
       "      <td>EZYV9873</td>\n",
       "      <td>Europe</td>\n",
       "      <td>Master's</td>\n",
       "      <td>Y</td>\n",
       "      <td>N</td>\n",
       "      <td>-26</td>\n",
       "      <td>1996</td>\n",
       "      <td>South</td>\n",
       "      <td>37397.0500</td>\n",
       "      <td>Year</td>\n",
       "      <td>Y</td>\n",
       "      <td>Certified</td>\n",
       "    </tr>\n",
       "    <tr>\n",
       "      <th>11493</th>\n",
       "      <td>EZYV11494</td>\n",
       "      <td>Asia</td>\n",
       "      <td>High School</td>\n",
       "      <td>Y</td>\n",
       "      <td>N</td>\n",
       "      <td>-14</td>\n",
       "      <td>1999</td>\n",
       "      <td>South</td>\n",
       "      <td>27599.3500</td>\n",
       "      <td>Year</td>\n",
       "      <td>Y</td>\n",
       "      <td>Denied</td>\n",
       "    </tr>\n",
       "    <tr>\n",
       "      <th>13471</th>\n",
       "      <td>EZYV13472</td>\n",
       "      <td>North America</td>\n",
       "      <td>Master's</td>\n",
       "      <td>N</td>\n",
       "      <td>N</td>\n",
       "      <td>-17</td>\n",
       "      <td>2003</td>\n",
       "      <td>Northeast</td>\n",
       "      <td>257.2413</td>\n",
       "      <td>Hour</td>\n",
       "      <td>Y</td>\n",
       "      <td>Denied</td>\n",
       "    </tr>\n",
       "    <tr>\n",
       "      <th>14022</th>\n",
       "      <td>EZYV14023</td>\n",
       "      <td>Asia</td>\n",
       "      <td>Bachelor's</td>\n",
       "      <td>N</td>\n",
       "      <td>Y</td>\n",
       "      <td>-11</td>\n",
       "      <td>1946</td>\n",
       "      <td>Northeast</td>\n",
       "      <td>108403.5600</td>\n",
       "      <td>Year</td>\n",
       "      <td>Y</td>\n",
       "      <td>Certified</td>\n",
       "    </tr>\n",
       "    <tr>\n",
       "      <th>14146</th>\n",
       "      <td>EZYV14147</td>\n",
       "      <td>Asia</td>\n",
       "      <td>Bachelor's</td>\n",
       "      <td>N</td>\n",
       "      <td>Y</td>\n",
       "      <td>-26</td>\n",
       "      <td>1954</td>\n",
       "      <td>West</td>\n",
       "      <td>81982.2700</td>\n",
       "      <td>Year</td>\n",
       "      <td>Y</td>\n",
       "      <td>Certified</td>\n",
       "    </tr>\n",
       "    <tr>\n",
       "      <th>14726</th>\n",
       "      <td>EZYV14727</td>\n",
       "      <td>Asia</td>\n",
       "      <td>Master's</td>\n",
       "      <td>N</td>\n",
       "      <td>N</td>\n",
       "      <td>-11</td>\n",
       "      <td>2000</td>\n",
       "      <td>Midwest</td>\n",
       "      <td>167851.8000</td>\n",
       "      <td>Year</td>\n",
       "      <td>Y</td>\n",
       "      <td>Certified</td>\n",
       "    </tr>\n",
       "    <tr>\n",
       "      <th>15600</th>\n",
       "      <td>EZYV15601</td>\n",
       "      <td>Asia</td>\n",
       "      <td>Bachelor's</td>\n",
       "      <td>N</td>\n",
       "      <td>N</td>\n",
       "      <td>-14</td>\n",
       "      <td>2014</td>\n",
       "      <td>South</td>\n",
       "      <td>24641.6100</td>\n",
       "      <td>Year</td>\n",
       "      <td>Y</td>\n",
       "      <td>Denied</td>\n",
       "    </tr>\n",
       "    <tr>\n",
       "      <th>15859</th>\n",
       "      <td>EZYV15860</td>\n",
       "      <td>Asia</td>\n",
       "      <td>High School</td>\n",
       "      <td>N</td>\n",
       "      <td>N</td>\n",
       "      <td>-11</td>\n",
       "      <td>1969</td>\n",
       "      <td>South</td>\n",
       "      <td>44640.6000</td>\n",
       "      <td>Year</td>\n",
       "      <td>Y</td>\n",
       "      <td>Denied</td>\n",
       "    </tr>\n",
       "    <tr>\n",
       "      <th>16157</th>\n",
       "      <td>EZYV16158</td>\n",
       "      <td>Asia</td>\n",
       "      <td>Master's</td>\n",
       "      <td>Y</td>\n",
       "      <td>N</td>\n",
       "      <td>-11</td>\n",
       "      <td>1994</td>\n",
       "      <td>South</td>\n",
       "      <td>62681.2500</td>\n",
       "      <td>Year</td>\n",
       "      <td>Y</td>\n",
       "      <td>Certified</td>\n",
       "    </tr>\n",
       "    <tr>\n",
       "      <th>16883</th>\n",
       "      <td>EZYV16884</td>\n",
       "      <td>North America</td>\n",
       "      <td>Bachelor's</td>\n",
       "      <td>Y</td>\n",
       "      <td>N</td>\n",
       "      <td>-26</td>\n",
       "      <td>1968</td>\n",
       "      <td>Northeast</td>\n",
       "      <td>168.1558</td>\n",
       "      <td>Hour</td>\n",
       "      <td>Y</td>\n",
       "      <td>Denied</td>\n",
       "    </tr>\n",
       "    <tr>\n",
       "      <th>17006</th>\n",
       "      <td>EZYV17007</td>\n",
       "      <td>Asia</td>\n",
       "      <td>Doctorate</td>\n",
       "      <td>Y</td>\n",
       "      <td>N</td>\n",
       "      <td>-11</td>\n",
       "      <td>1984</td>\n",
       "      <td>West</td>\n",
       "      <td>25753.5100</td>\n",
       "      <td>Year</td>\n",
       "      <td>Y</td>\n",
       "      <td>Denied</td>\n",
       "    </tr>\n",
       "    <tr>\n",
       "      <th>17655</th>\n",
       "      <td>EZYV17656</td>\n",
       "      <td>North America</td>\n",
       "      <td>Bachelor's</td>\n",
       "      <td>Y</td>\n",
       "      <td>N</td>\n",
       "      <td>-17</td>\n",
       "      <td>2007</td>\n",
       "      <td>Northeast</td>\n",
       "      <td>129753.1800</td>\n",
       "      <td>Year</td>\n",
       "      <td>Y</td>\n",
       "      <td>Denied</td>\n",
       "    </tr>\n",
       "    <tr>\n",
       "      <th>17844</th>\n",
       "      <td>EZYV17845</td>\n",
       "      <td>Asia</td>\n",
       "      <td>Bachelor's</td>\n",
       "      <td>N</td>\n",
       "      <td>N</td>\n",
       "      <td>-14</td>\n",
       "      <td>2012</td>\n",
       "      <td>West</td>\n",
       "      <td>29325.8500</td>\n",
       "      <td>Year</td>\n",
       "      <td>Y</td>\n",
       "      <td>Denied</td>\n",
       "    </tr>\n",
       "    <tr>\n",
       "      <th>17983</th>\n",
       "      <td>EZYV17984</td>\n",
       "      <td>Asia</td>\n",
       "      <td>Bachelor's</td>\n",
       "      <td>N</td>\n",
       "      <td>N</td>\n",
       "      <td>-26</td>\n",
       "      <td>2004</td>\n",
       "      <td>South</td>\n",
       "      <td>84359.9800</td>\n",
       "      <td>Year</td>\n",
       "      <td>Y</td>\n",
       "      <td>Denied</td>\n",
       "    </tr>\n",
       "    <tr>\n",
       "      <th>20815</th>\n",
       "      <td>EZYV20816</td>\n",
       "      <td>Asia</td>\n",
       "      <td>Bachelor's</td>\n",
       "      <td>N</td>\n",
       "      <td>Y</td>\n",
       "      <td>-17</td>\n",
       "      <td>1990</td>\n",
       "      <td>West</td>\n",
       "      <td>91897.5700</td>\n",
       "      <td>Year</td>\n",
       "      <td>Y</td>\n",
       "      <td>Certified</td>\n",
       "    </tr>\n",
       "    <tr>\n",
       "      <th>20984</th>\n",
       "      <td>EZYV20985</td>\n",
       "      <td>Europe</td>\n",
       "      <td>Doctorate</td>\n",
       "      <td>Y</td>\n",
       "      <td>N</td>\n",
       "      <td>-14</td>\n",
       "      <td>1989</td>\n",
       "      <td>Midwest</td>\n",
       "      <td>37012.8000</td>\n",
       "      <td>Year</td>\n",
       "      <td>Y</td>\n",
       "      <td>Certified</td>\n",
       "    </tr>\n",
       "    <tr>\n",
       "      <th>21255</th>\n",
       "      <td>EZYV21256</td>\n",
       "      <td>North America</td>\n",
       "      <td>High School</td>\n",
       "      <td>N</td>\n",
       "      <td>N</td>\n",
       "      <td>-25</td>\n",
       "      <td>1987</td>\n",
       "      <td>South</td>\n",
       "      <td>99405.4700</td>\n",
       "      <td>Year</td>\n",
       "      <td>N</td>\n",
       "      <td>Denied</td>\n",
       "    </tr>\n",
       "    <tr>\n",
       "      <th>21760</th>\n",
       "      <td>EZYV21761</td>\n",
       "      <td>Asia</td>\n",
       "      <td>Bachelor's</td>\n",
       "      <td>Y</td>\n",
       "      <td>N</td>\n",
       "      <td>-25</td>\n",
       "      <td>2000</td>\n",
       "      <td>West</td>\n",
       "      <td>100463.5800</td>\n",
       "      <td>Year</td>\n",
       "      <td>Y</td>\n",
       "      <td>Certified</td>\n",
       "    </tr>\n",
       "    <tr>\n",
       "      <th>21944</th>\n",
       "      <td>EZYV21945</td>\n",
       "      <td>Africa</td>\n",
       "      <td>Master's</td>\n",
       "      <td>Y</td>\n",
       "      <td>N</td>\n",
       "      <td>-25</td>\n",
       "      <td>1977</td>\n",
       "      <td>Midwest</td>\n",
       "      <td>79150.5100</td>\n",
       "      <td>Year</td>\n",
       "      <td>Y</td>\n",
       "      <td>Certified</td>\n",
       "    </tr>\n",
       "    <tr>\n",
       "      <th>22084</th>\n",
       "      <td>EZYV22085</td>\n",
       "      <td>North America</td>\n",
       "      <td>Bachelor's</td>\n",
       "      <td>Y</td>\n",
       "      <td>N</td>\n",
       "      <td>-14</td>\n",
       "      <td>1980</td>\n",
       "      <td>West</td>\n",
       "      <td>691.0609</td>\n",
       "      <td>Hour</td>\n",
       "      <td>Y</td>\n",
       "      <td>Denied</td>\n",
       "    </tr>\n",
       "    <tr>\n",
       "      <th>22388</th>\n",
       "      <td>EZYV22389</td>\n",
       "      <td>Asia</td>\n",
       "      <td>Master's</td>\n",
       "      <td>Y</td>\n",
       "      <td>N</td>\n",
       "      <td>-14</td>\n",
       "      <td>1986</td>\n",
       "      <td>South</td>\n",
       "      <td>17893.1100</td>\n",
       "      <td>Year</td>\n",
       "      <td>Y</td>\n",
       "      <td>Certified</td>\n",
       "    </tr>\n",
       "    <tr>\n",
       "      <th>23186</th>\n",
       "      <td>EZYV23187</td>\n",
       "      <td>Asia</td>\n",
       "      <td>Master's</td>\n",
       "      <td>N</td>\n",
       "      <td>Y</td>\n",
       "      <td>-11</td>\n",
       "      <td>2007</td>\n",
       "      <td>Midwest</td>\n",
       "      <td>120195.3500</td>\n",
       "      <td>Year</td>\n",
       "      <td>Y</td>\n",
       "      <td>Certified</td>\n",
       "    </tr>\n",
       "    <tr>\n",
       "      <th>23476</th>\n",
       "      <td>EZYV23477</td>\n",
       "      <td>Europe</td>\n",
       "      <td>Master's</td>\n",
       "      <td>Y</td>\n",
       "      <td>N</td>\n",
       "      <td>-11</td>\n",
       "      <td>2000</td>\n",
       "      <td>West</td>\n",
       "      <td>95072.7500</td>\n",
       "      <td>Year</td>\n",
       "      <td>Y</td>\n",
       "      <td>Denied</td>\n",
       "    </tr>\n",
       "  </tbody>\n",
       "</table>\n",
       "</div>"
      ],
      "text/plain": [
       "         case_id      continent education_of_employee has_job_experience  \\\n",
       "245      EZYV246         Europe              Master's                  N   \n",
       "378      EZYV379           Asia            Bachelor's                  N   \n",
       "832      EZYV833  South America              Master's                  Y   \n",
       "2918    EZYV2919           Asia              Master's                  Y   \n",
       "6439    EZYV6440           Asia            Bachelor's                  N   \n",
       "6634    EZYV6635           Asia            Bachelor's                  Y   \n",
       "7224    EZYV7225         Europe             Doctorate                  N   \n",
       "7281    EZYV7282           Asia           High School                  N   \n",
       "7318    EZYV7319           Asia            Bachelor's                  Y   \n",
       "7761    EZYV7762           Asia              Master's                  N   \n",
       "9872    EZYV9873         Europe              Master's                  Y   \n",
       "11493  EZYV11494           Asia           High School                  Y   \n",
       "13471  EZYV13472  North America              Master's                  N   \n",
       "14022  EZYV14023           Asia            Bachelor's                  N   \n",
       "14146  EZYV14147           Asia            Bachelor's                  N   \n",
       "14726  EZYV14727           Asia              Master's                  N   \n",
       "15600  EZYV15601           Asia            Bachelor's                  N   \n",
       "15859  EZYV15860           Asia           High School                  N   \n",
       "16157  EZYV16158           Asia              Master's                  Y   \n",
       "16883  EZYV16884  North America            Bachelor's                  Y   \n",
       "17006  EZYV17007           Asia             Doctorate                  Y   \n",
       "17655  EZYV17656  North America            Bachelor's                  Y   \n",
       "17844  EZYV17845           Asia            Bachelor's                  N   \n",
       "17983  EZYV17984           Asia            Bachelor's                  N   \n",
       "20815  EZYV20816           Asia            Bachelor's                  N   \n",
       "20984  EZYV20985         Europe             Doctorate                  Y   \n",
       "21255  EZYV21256  North America           High School                  N   \n",
       "21760  EZYV21761           Asia            Bachelor's                  Y   \n",
       "21944  EZYV21945         Africa              Master's                  Y   \n",
       "22084  EZYV22085  North America            Bachelor's                  Y   \n",
       "22388  EZYV22389           Asia              Master's                  Y   \n",
       "23186  EZYV23187           Asia              Master's                  N   \n",
       "23476  EZYV23477         Europe              Master's                  Y   \n",
       "\n",
       "      requires_job_training  no_of_employees  yr_of_estab  \\\n",
       "245                       N              -25         1980   \n",
       "378                       Y              -11         2011   \n",
       "832                       N              -17         2002   \n",
       "2918                      N              -26         2005   \n",
       "6439                      N              -14         2013   \n",
       "6634                      N              -26         1923   \n",
       "7224                      N              -25         1998   \n",
       "7281                      N              -14         2000   \n",
       "7318                      Y              -26         2006   \n",
       "7761                      N              -11         2009   \n",
       "9872                      N              -26         1996   \n",
       "11493                     N              -14         1999   \n",
       "13471                     N              -17         2003   \n",
       "14022                     Y              -11         1946   \n",
       "14146                     Y              -26         1954   \n",
       "14726                     N              -11         2000   \n",
       "15600                     N              -14         2014   \n",
       "15859                     N              -11         1969   \n",
       "16157                     N              -11         1994   \n",
       "16883                     N              -26         1968   \n",
       "17006                     N              -11         1984   \n",
       "17655                     N              -17         2007   \n",
       "17844                     N              -14         2012   \n",
       "17983                     N              -26         2004   \n",
       "20815                     Y              -17         1990   \n",
       "20984                     N              -14         1989   \n",
       "21255                     N              -25         1987   \n",
       "21760                     N              -25         2000   \n",
       "21944                     N              -25         1977   \n",
       "22084                     N              -14         1980   \n",
       "22388                     N              -14         1986   \n",
       "23186                     Y              -11         2007   \n",
       "23476                     N              -11         2000   \n",
       "\n",
       "      region_of_employment  prevailing_wage unit_of_wage full_time_position  \\\n",
       "245              Northeast       39452.9900         Year                  Y   \n",
       "378              Northeast       32506.1400         Year                  Y   \n",
       "832                  South      129701.9400         Year                  Y   \n",
       "2918               Midwest      112799.4600         Year                  Y   \n",
       "6439                 South         103.9700         Hour                  Y   \n",
       "6634                  West        5247.3200         Year                  Y   \n",
       "7224               Midwest      141435.9500         Year                  Y   \n",
       "7281               Midwest       58488.5000         Year                  Y   \n",
       "7318                 South      115005.6100         Year                  Y   \n",
       "7761               Midwest       38457.5100         Year                  Y   \n",
       "9872                 South       37397.0500         Year                  Y   \n",
       "11493                South       27599.3500         Year                  Y   \n",
       "13471            Northeast         257.2413         Hour                  Y   \n",
       "14022            Northeast      108403.5600         Year                  Y   \n",
       "14146                 West       81982.2700         Year                  Y   \n",
       "14726              Midwest      167851.8000         Year                  Y   \n",
       "15600                South       24641.6100         Year                  Y   \n",
       "15859                South       44640.6000         Year                  Y   \n",
       "16157                South       62681.2500         Year                  Y   \n",
       "16883            Northeast         168.1558         Hour                  Y   \n",
       "17006                 West       25753.5100         Year                  Y   \n",
       "17655            Northeast      129753.1800         Year                  Y   \n",
       "17844                 West       29325.8500         Year                  Y   \n",
       "17983                South       84359.9800         Year                  Y   \n",
       "20815                 West       91897.5700         Year                  Y   \n",
       "20984              Midwest       37012.8000         Year                  Y   \n",
       "21255                South       99405.4700         Year                  N   \n",
       "21760                 West      100463.5800         Year                  Y   \n",
       "21944              Midwest       79150.5100         Year                  Y   \n",
       "22084                 West         691.0609         Hour                  Y   \n",
       "22388                South       17893.1100         Year                  Y   \n",
       "23186              Midwest      120195.3500         Year                  Y   \n",
       "23476                 West       95072.7500         Year                  Y   \n",
       "\n",
       "      case_status  \n",
       "245     Certified  \n",
       "378        Denied  \n",
       "832     Certified  \n",
       "2918    Certified  \n",
       "6439       Denied  \n",
       "6634       Denied  \n",
       "7224    Certified  \n",
       "7281       Denied  \n",
       "7318    Certified  \n",
       "7761    Certified  \n",
       "9872    Certified  \n",
       "11493      Denied  \n",
       "13471      Denied  \n",
       "14022   Certified  \n",
       "14146   Certified  \n",
       "14726   Certified  \n",
       "15600      Denied  \n",
       "15859      Denied  \n",
       "16157   Certified  \n",
       "16883      Denied  \n",
       "17006      Denied  \n",
       "17655      Denied  \n",
       "17844      Denied  \n",
       "17983      Denied  \n",
       "20815   Certified  \n",
       "20984   Certified  \n",
       "21255      Denied  \n",
       "21760   Certified  \n",
       "21944   Certified  \n",
       "22084      Denied  \n",
       "22388   Certified  \n",
       "23186   Certified  \n",
       "23476      Denied  "
      ]
     },
     "execution_count": 11,
     "metadata": {},
     "output_type": "execute_result"
    }
   ],
   "source": [
    " ##  check negative values in the employee column\n",
    "data[data['no_of_employees'] < 0]"
   ]
  },
  {
   "cell_type": "code",
   "execution_count": 12,
   "id": "prescription-bosnia",
   "metadata": {
    "id": "prescription-bosnia"
   },
   "outputs": [],
   "source": [
    "# taking the absolute values for number of employees\n",
    "data[\"no_of_employees\"] = abs(data[\"no_of_employees\"]) \n",
    "## Write the function to convert the values to a positive number"
   ]
  },
  {
   "cell_type": "markdown",
   "id": "cutting-bookmark",
   "metadata": {
    "id": "cutting-bookmark"
   },
   "source": [
    "#### Let's check the count of each unique category in each of the categorical variables"
   ]
  },
  {
   "cell_type": "code",
   "execution_count": 13,
   "id": "minute-helmet",
   "metadata": {
    "id": "minute-helmet"
   },
   "outputs": [
    {
     "name": "stdout",
     "output_type": "stream",
     "text": [
      "EZYV01       1\n",
      "EZYV16995    1\n",
      "EZYV16993    1\n",
      "EZYV16992    1\n",
      "EZYV16991    1\n",
      "            ..\n",
      "EZYV8492     1\n",
      "EZYV8491     1\n",
      "EZYV8490     1\n",
      "EZYV8489     1\n",
      "EZYV25480    1\n",
      "Name: case_id, Length: 25480, dtype: int64\n",
      "--------------------------------------------------\n",
      "Asia             16861\n",
      "Europe            3732\n",
      "North America     3292\n",
      "South America      852\n",
      "Africa             551\n",
      "Oceania            192\n",
      "Name: continent, dtype: int64\n",
      "--------------------------------------------------\n",
      "Bachelor's     10234\n",
      "Master's        9634\n",
      "High School     3420\n",
      "Doctorate       2192\n",
      "Name: education_of_employee, dtype: int64\n",
      "--------------------------------------------------\n",
      "Y    14802\n",
      "N    10678\n",
      "Name: has_job_experience, dtype: int64\n",
      "--------------------------------------------------\n",
      "N    22525\n",
      "Y     2955\n",
      "Name: requires_job_training, dtype: int64\n",
      "--------------------------------------------------\n",
      "Northeast    7195\n",
      "South        7017\n",
      "West         6586\n",
      "Midwest      4307\n",
      "Island        375\n",
      "Name: region_of_employment, dtype: int64\n",
      "--------------------------------------------------\n",
      "Year     22962\n",
      "Hour      2157\n",
      "Week       272\n",
      "Month       89\n",
      "Name: unit_of_wage, dtype: int64\n",
      "--------------------------------------------------\n",
      "Y    22773\n",
      "N     2707\n",
      "Name: full_time_position, dtype: int64\n",
      "--------------------------------------------------\n",
      "Certified    17018\n",
      "Denied        8462\n",
      "Name: case_status, dtype: int64\n",
      "--------------------------------------------------\n"
     ]
    }
   ],
   "source": [
    "# Making a list of all catrgorical variables\n",
    "cat_col = list(data.select_dtypes(\"object\").columns)\n",
    "\n",
    "# Printing number of count of each unique value in each column\n",
    "for column in cat_col:\n",
    "    print(data[column].value_counts())\n",
    "    print(\"-\" * 50)"
   ]
  },
  {
   "cell_type": "code",
   "execution_count": 14,
   "id": "occupied-classroom",
   "metadata": {
    "id": "occupied-classroom"
   },
   "outputs": [
    {
     "data": {
      "text/plain": [
       "array(['EZYV01', 'EZYV02', 'EZYV03', ..., 'EZYV25478', 'EZYV25479',\n",
       "       'EZYV25480'], dtype=object)"
      ]
     },
     "execution_count": 14,
     "metadata": {},
     "output_type": "execute_result"
    }
   ],
   "source": [
    "# checking the number of unique values\n",
    "data[\"case_id\"].unique() ##  check unique values in the mentioned column"
   ]
  },
  {
   "cell_type": "code",
   "execution_count": 15,
   "id": "existing-sociology",
   "metadata": {
    "id": "existing-sociology"
   },
   "outputs": [],
   "source": [
    "data.drop([\"case_id\"], axis=1, inplace=True) ##  drop 'case_id' column from the data"
   ]
  },
  {
   "cell_type": "markdown",
   "id": "wooden-christian",
   "metadata": {
    "id": "wooden-christian"
   },
   "source": [
    "### Univariate Analysis"
   ]
  },
  {
   "cell_type": "markdown",
   "id": "comic-inventory",
   "metadata": {
    "id": "comic-inventory"
   },
   "source": [
    "#### Observations on number of employees"
   ]
  },
  {
   "cell_type": "code",
   "execution_count": 16,
   "id": "loaded-commercial",
   "metadata": {
    "id": "loaded-commercial"
   },
   "outputs": [
    {
     "data": {
      "image/png": "[encoded data removed]",
      "text/plain": [
       "<Figure size 1080x720 with 2 Axes>"
      ]
     },
     "metadata": {
      "needs_background": "light"
     },
     "output_type": "display_data"
    }
   ],
   "source": [
    "histogram_boxplot(data, \"no_of_employees\")"
   ]
  },
  {
   "cell_type": "markdown",
   "id": "metric-apparel",
   "metadata": {
    "id": "metric-apparel"
   },
   "source": [
    "#### Observations on prevailing wage"
   ]
  },
  {
   "cell_type": "code",
   "execution_count": 17,
   "id": "duplicate-theater",
   "metadata": {
    "id": "duplicate-theater"
   },
   "outputs": [
    {
     "data": {
      "image/png": "[encoded data removed]",
      "text/plain": [
       "<Figure size 1080x720 with 2 Axes>"
      ]
     },
     "metadata": {
      "needs_background": "light"
     },
     "output_type": "display_data"
    }
   ],
   "source": [
    "histogram_boxplot(data,'prevailing_wage') ##  create histogram_boxplot for prevailing wage"
   ]
  },
  {
   "cell_type": "code",
   "execution_count": 18,
   "id": "legendary-stone",
   "metadata": {
    "id": "legendary-stone"
   },
   "outputs": [
    {
     "data": {
      "text/plain": [
       "338      15.7716\n",
       "634       3.3188\n",
       "839      61.1329\n",
       "876      82.0029\n",
       "995      47.4872\n",
       "          ...   \n",
       "25023    94.1546\n",
       "25258    79.1099\n",
       "25308    42.7705\n",
       "25329    32.9286\n",
       "25461    54.9196\n",
       "Name: prevailing_wage, Length: 177, dtype: float64"
      ]
     },
     "execution_count": 18,
     "metadata": {},
     "output_type": "execute_result"
    }
   ],
   "source": [
    "# checking the observations which have less than 100 prevailing wage\n",
    "# data.loc[:,'prevailing_wage'] ##  find the rows with less than 100 prevailing wage\n",
    "# data[data['prevailing_wage'] <= 100]\n",
    "data[data['prevailing_wage'] <= 100]['prevailing_wage']"
   ]
  },
  {
   "cell_type": "code",
   "execution_count": 19,
   "id": "handmade-carroll",
   "metadata": {
    "id": "handmade-carroll"
   },
   "outputs": [
    {
     "data": {
      "text/plain": [
       "15.7716    1\n",
       "89.2557    1\n",
       "25.0117    1\n",
       "96.1061    1\n",
       "11.4219    1\n",
       "          ..\n",
       "5.6396     1\n",
       "74.4049    1\n",
       "84.9745    1\n",
       "34.5971    1\n",
       "54.9196    1\n",
       "Name: prevailing_wage, Length: 177, dtype: int64"
      ]
     },
     "execution_count": 19,
     "metadata": {},
     "output_type": "execute_result"
    }
   ],
   "source": [
    "##  get the count of the values in the mentioned column\n",
    "data[data['prevailing_wage'] <= 100]['prevailing_wage'].value_counts()"
   ]
  },
  {
   "cell_type": "markdown",
   "id": "bulgarian-parts",
   "metadata": {
    "id": "bulgarian-parts"
   },
   "source": [
    "#### Observations on continent"
   ]
  },
  {
   "cell_type": "code",
   "execution_count": 20,
   "id": "artistic-accounting",
   "metadata": {
    "id": "artistic-accounting"
   },
   "outputs": [
    {
     "data": {
      "image/png": "[encoded data removed]",
      "text/plain": [
       "<Figure size 576x432 with 1 Axes>"
      ]
     },
     "metadata": {
      "needs_background": "light"
     },
     "output_type": "display_data"
    }
   ],
   "source": [
    "labeled_barplot(data, \"continent\", perc=True) "
   ]
  },
  {
   "cell_type": "markdown",
   "id": "editorial-command",
   "metadata": {
    "id": "editorial-command"
   },
   "source": [
    "#### Observations on education of employee"
   ]
  },
  {
   "cell_type": "code",
   "execution_count": 21,
   "id": "express-harrison",
   "metadata": {
    "id": "express-harrison"
   },
   "outputs": [
    {
     "data": {
      "image/png": "[encoded data removed]",
      "text/plain": [
       "<Figure size 432x432 with 1 Axes>"
      ]
     },
     "metadata": {
      "needs_background": "light"
     },
     "output_type": "display_data"
    }
   ],
   "source": [
    "labeled_barplot(data,'education_of_employee',perc=True)  ##  create labeled_barplot for education of employee"
   ]
  },
  {
   "cell_type": "markdown",
   "id": "forbidden-kidney",
   "metadata": {
    "id": "forbidden-kidney"
   },
   "source": [
    "#### Observations on job experience"
   ]
  },
  {
   "cell_type": "code",
   "execution_count": 22,
   "id": "exterior-rings",
   "metadata": {
    "id": "exterior-rings"
   },
   "outputs": [
    {
     "data": {
      "image/png": "[encoded data removed]",
      "text/plain": [
       "<Figure size 288x432 with 1 Axes>"
      ]
     },
     "metadata": {
      "needs_background": "light"
     },
     "output_type": "display_data"
    }
   ],
   "source": [
    "labeled_barplot(data,'has_job_experience',perc=True)  ##  create labeled_barplot for job experience"
   ]
  },
  {
   "cell_type": "markdown",
   "id": "amateur-above",
   "metadata": {
    "id": "amateur-above"
   },
   "source": [
    "#### Observations on job training"
   ]
  },
  {
   "cell_type": "code",
   "execution_count": 23,
   "id": "serial-irrigation",
   "metadata": {
    "id": "serial-irrigation",
    "scrolled": false
   },
   "outputs": [
    {
     "data": {
      "image/png": "[encoded data removed]",
      "text/plain": [
       "<Figure size 288x432 with 1 Axes>"
      ]
     },
     "metadata": {
      "needs_background": "light"
     },
     "output_type": "display_data"
    }
   ],
   "source": [
    "labeled_barplot(data,'requires_job_training',perc=True)  ##  create labeled_barplot for job training "
   ]
  },
  {
   "cell_type": "markdown",
   "id": "attempted-burlington",
   "metadata": {
    "id": "attempted-burlington"
   },
   "source": [
    "#### Observations on region of employment"
   ]
  },
  {
   "cell_type": "code",
   "execution_count": 24,
   "id": "suited-tuner",
   "metadata": {
    "id": "suited-tuner"
   },
   "outputs": [
    {
     "data": {
      "image/png": "[encoded data removed]",
      "text/plain": [
       "<Figure size 504x432 with 1 Axes>"
      ]
     },
     "metadata": {
      "needs_background": "light"
     },
     "output_type": "display_data"
    }
   ],
   "source": [
    "labeled_barplot(data,'region_of_employment',perc=True)  ##  create labeled_barplot for region of employment"
   ]
  },
  {
   "cell_type": "markdown",
   "id": "aging-curve",
   "metadata": {
    "id": "aging-curve"
   },
   "source": [
    "#### Observations on unit of wage"
   ]
  },
  {
   "cell_type": "code",
   "execution_count": 25,
   "id": "modified-breed",
   "metadata": {
    "id": "modified-breed"
   },
   "outputs": [
    {
     "data": {
      "image/png": "[encoded data removed]",
      "text/plain": [
       "<Figure size 432x432 with 1 Axes>"
      ]
     },
     "metadata": {
      "needs_background": "light"
     },
     "output_type": "display_data"
    }
   ],
   "source": [
    "labeled_barplot(data,'unit_of_wage',perc=True)  ##  create labeled_barplot for unit of wage"
   ]
  },
  {
   "cell_type": "markdown",
   "id": "stunning-surrey",
   "metadata": {
    "id": "stunning-surrey"
   },
   "source": [
    "#### Observations on case status"
   ]
  },
  {
   "cell_type": "code",
   "execution_count": 26,
   "id": "potential-stroke",
   "metadata": {
    "id": "potential-stroke"
   },
   "outputs": [
    {
     "data": {
      "image/png": "[encoded data removed]",
      "text/plain": [
       "<Figure size 288x432 with 1 Axes>"
      ]
     },
     "metadata": {
      "needs_background": "light"
     },
     "output_type": "display_data"
    }
   ],
   "source": [
    "labeled_barplot(data,'case_status',perc=True)  ##  create labeled_barplot for case status"
   ]
  },
  {
   "cell_type": "markdown",
   "id": "equivalent-aging",
   "metadata": {
    "id": "equivalent-aging"
   },
   "source": [
    "### Bivariate Analysis"
   ]
  },
  {
   "cell_type": "code",
   "execution_count": 27,
   "id": "social-wagner",
   "metadata": {
    "id": "social-wagner"
   },
   "outputs": [
    {
     "data": {
      "image/png": "[encoded data removed]",
      "text/plain": [
       "<Figure size 720x360 with 2 Axes>"
      ]
     },
     "metadata": {
      "needs_background": "light"
     },
     "output_type": "display_data"
    }
   ],
   "source": [
    "cols_list = data.select_dtypes(include=np.number).columns.tolist()\n",
    "\n",
    "plt.figure(figsize=(10, 5))\n",
    "sns.heatmap(\n",
    "    data[cols_list].corr(), annot=True, vmin=-1, vmax=1, fmt=\".2f\", cmap=\"Spectral\"\n",
    ") ##  find the correlation between the variables\n",
    "plt.show()"
   ]
  },
  {
   "cell_type": "markdown",
   "id": "dressed-excuse",
   "metadata": {
    "id": "dressed-excuse"
   },
   "source": [
    "#### Those with higher education may want to travel abroad for a well-paid job. Let's find out if education has any impact on visa certification"
   ]
  },
  {
   "cell_type": "code",
   "execution_count": 28,
   "id": "special-florist",
   "metadata": {
    "id": "special-florist"
   },
   "outputs": [
    {
     "name": "stdout",
     "output_type": "stream",
     "text": [
      "case_status            Certified  Denied    All\n",
      "education_of_employee                          \n",
      "All                        17018    8462  25480\n",
      "Bachelor's                  6367    3867  10234\n",
      "High School                 1164    2256   3420\n",
      "Master's                    7575    2059   9634\n",
      "Doctorate                   1912     280   2192\n",
      "------------------------------------------------------------------------------------------------------------------------\n"
     ]
    },
    {
     "data": {
      "image/png": "[encoded data removed]",
      "text/plain": [
       "<Figure size 648x360 with 1 Axes>"
      ]
     },
     "metadata": {
      "needs_background": "light"
     },
     "output_type": "display_data"
    }
   ],
   "source": [
    "stacked_barplot(data, \"education_of_employee\", \"case_status\")"
   ]
  },
  {
   "cell_type": "markdown",
   "id": "wound-communication",
   "metadata": {
    "id": "wound-communication"
   },
   "source": [
    "#### Different regions have different requirements of talent having diverse educational backgrounds. Let's analyze it further"
   ]
  },
  {
   "cell_type": "code",
   "execution_count": 29,
   "id": "tamil-intelligence",
   "metadata": {
    "id": "tamil-intelligence"
   },
   "outputs": [
    {
     "data": {
      "image/png": "[encoded data removed]",
      "text/plain": [
       "<Figure size 720x360 with 2 Axes>"
      ]
     },
     "metadata": {
      "needs_background": "light"
     },
     "output_type": "display_data"
    }
   ],
   "source": [
    "plt.figure(figsize=(10, 5))\n",
    "sns.heatmap(pd.crosstab(data['education_of_employee'],data['region_of_employment']),\n",
    "    annot=True,\n",
    "    fmt=\"g\",\n",
    "    cmap=\"viridis\"\n",
    ") ##  plot heatmap for the crosstab between education and region of employment\n",
    "\n",
    "plt.ylabel(\"Education\")\n",
    "plt.xlabel(\"Region\")\n",
    "plt.show()"
   ]
  },
  {
   "cell_type": "markdown",
   "id": "theoretical-flexibility",
   "metadata": {
    "id": "theoretical-flexibility"
   },
   "source": [
    "#### Let's have a look at the percentage of visa certifications across each region"
   ]
  },
  {
   "cell_type": "code",
   "execution_count": 30,
   "id": "hybrid-zealand",
   "metadata": {
    "id": "hybrid-zealand"
   },
   "outputs": [
    {
     "name": "stdout",
     "output_type": "stream",
     "text": [
      "case_status           Certified  Denied    All\n",
      "region_of_employment                          \n",
      "All                       17018    8462  25480\n",
      "Northeast                  4526    2669   7195\n",
      "West                       4100    2486   6586\n",
      "South                      4913    2104   7017\n",
      "Midwest                    3253    1054   4307\n",
      "Island                      226     149    375\n",
      "------------------------------------------------------------------------------------------------------------------------\n"
     ]
    },
    {
     "data": {
      "image/png": "[encoded data removed]",
      "text/plain": [
       "<Figure size 720x360 with 1 Axes>"
      ]
     },
     "metadata": {
      "needs_background": "light"
     },
     "output_type": "display_data"
    }
   ],
   "source": [
    "stacked_barplot(data, 'region_of_employment', 'case_status') ##  plot stacked barplot for region of employment and case status"
   ]
  },
  {
   "cell_type": "markdown",
   "id": "attended-current",
   "metadata": {
    "id": "attended-current"
   },
   "source": [
    "#### Lets' similarly check for the continents and find out how the visa status vary across different continents."
   ]
  },
  {
   "cell_type": "code",
   "execution_count": 31,
   "id": "alive-bloom",
   "metadata": {
    "id": "alive-bloom"
   },
   "outputs": [
    {
     "name": "stdout",
     "output_type": "stream",
     "text": [
      "case_status    Certified  Denied    All\n",
      "continent                              \n",
      "All                17018    8462  25480\n",
      "Asia               11012    5849  16861\n",
      "North America       2037    1255   3292\n",
      "Europe              2957     775   3732\n",
      "South America        493     359    852\n",
      "Africa               397     154    551\n",
      "Oceania              122      70    192\n",
      "------------------------------------------------------------------------------------------------------------------------\n"
     ]
    },
    {
     "data": {
      "image/png": "[encoded data removed]",
      "text/plain": [
       "<Figure size 792x360 with 1 Axes>"
      ]
     },
     "metadata": {
      "needs_background": "light"
     },
     "output_type": "display_data"
    }
   ],
   "source": [
    "stacked_barplot(data, 'continent', 'case_status') ##  plot stacked barplot for continent and case status"
   ]
  },
  {
   "cell_type": "markdown",
   "id": "macro-decrease",
   "metadata": {
    "id": "macro-decrease"
   },
   "source": [
    "#### Experienced professionals might look abroad for opportunities to improve their lifestyles and career development. Let's see if having work experience has any influence over visa certification "
   ]
  },
  {
   "cell_type": "code",
   "execution_count": 32,
   "id": "divine-dimension",
   "metadata": {
    "id": "divine-dimension"
   },
   "outputs": [
    {
     "name": "stdout",
     "output_type": "stream",
     "text": [
      "case_status         Certified  Denied    All\n",
      "has_job_experience                          \n",
      "All                     17018    8462  25480\n",
      "N                        5994    4684  10678\n",
      "Y                       11024    3778  14802\n",
      "------------------------------------------------------------------------------------------------------------------------\n"
     ]
    },
    {
     "data": {
      "image/png": "[encoded data removed]",
      "text/plain": [
       "<Figure size 504x360 with 1 Axes>"
      ]
     },
     "metadata": {
      "needs_background": "light"
     },
     "output_type": "display_data"
    }
   ],
   "source": [
    "stacked_barplot(data, \"has_job_experience\", \"case_status\") ##  plot stacked barplot for job experience and case status"
   ]
  },
  {
   "cell_type": "markdown",
   "id": "binding-charger",
   "metadata": {
    "id": "binding-charger"
   },
   "source": [
    "#### Do the employees who have prior work experience require any job training?"
   ]
  },
  {
   "cell_type": "code",
   "execution_count": 33,
   "id": "temporal-dairy",
   "metadata": {
    "id": "temporal-dairy"
   },
   "outputs": [
    {
     "name": "stdout",
     "output_type": "stream",
     "text": [
      "requires_job_training      N     Y    All\n",
      "has_job_experience                       \n",
      "All                    22525  2955  25480\n",
      "N                       8988  1690  10678\n",
      "Y                      13537  1265  14802\n",
      "------------------------------------------------------------------------------------------------------------------------\n"
     ]
    },
    {
     "data": {
      "image/png": "[encoded data removed]",
      "text/plain": [
       "<Figure size 504x360 with 1 Axes>"
      ]
     },
     "metadata": {
      "needs_background": "light"
     },
     "output_type": "display_data"
    }
   ],
   "source": [
    "stacked_barplot(data, 'has_job_experience', 'requires_job_training') ##  plot stacked barplot for job experience and requires_job_training"
   ]
  },
  {
   "cell_type": "markdown",
   "id": "lesser-bacteria",
   "metadata": {
    "id": "lesser-bacteria"
   },
   "source": [
    "#### The US government has established a prevailing wage to protect local talent and foreign workers. Let's analyze the data and see if the visa status changes with the prevailing wage"
   ]
  },
  {
   "cell_type": "code",
   "execution_count": 34,
   "id": "perfect-haiti",
   "metadata": {
    "id": "perfect-haiti"
   },
   "outputs": [
    {
     "data": {
      "image/png": "[encoded data removed]",
      "text/plain": [
       "<Figure size 864x720 with 4 Axes>"
      ]
     },
     "metadata": {
      "needs_background": "light"
     },
     "output_type": "display_data"
    }
   ],
   "source": [
    "distribution_plot_wrt_target(data, \"prevailing_wage\", \"case_status\") ##  find distribution of prevailing wage and case status"
   ]
  },
  {
   "cell_type": "markdown",
   "id": "changing-kansas",
   "metadata": {
    "id": "changing-kansas"
   },
   "source": [
    "#### Checking if the prevailing wage is similar across all the regions of the US"
   ]
  },
  {
   "cell_type": "code",
   "execution_count": 35,
   "id": "dangerous-pride",
   "metadata": {
    "id": "dangerous-pride"
   },
   "outputs": [
    {
     "data": {
      "text/plain": [
       "<Figure size 720x360 with 0 Axes>"
      ]
     },
     "metadata": {},
     "output_type": "display_data"
    },
    {
     "data": {
      "image/png": "[encoded data removed]",
      "text/plain": [
       "<Figure size 864x720 with 4 Axes>"
      ]
     },
     "metadata": {
      "needs_background": "light"
     },
     "output_type": "display_data"
    }
   ],
   "source": [
    "plt.figure(figsize=(10, 5))\n",
    "distribution_plot_wrt_target(data, 'region_of_employment', 'prevailing_wage') ##  create boxplot for region of employment and prevailing wage\n",
    "plt.show()"
   ]
  },
  {
   "cell_type": "markdown",
   "id": "suspected-asthma",
   "metadata": {
    "id": "suspected-asthma"
   },
   "source": [
    "#### The prevailing wage has different units (Hourly, Weekly, etc). Let's find out if it has any impact on visa applications getting certified."
   ]
  },
  {
   "cell_type": "code",
   "execution_count": 36,
   "id": "impossible-aquatic",
   "metadata": {
    "id": "impossible-aquatic"
   },
   "outputs": [
    {
     "name": "stdout",
     "output_type": "stream",
     "text": [
      "case_status   Certified  Denied    All\n",
      "unit_of_wage                          \n",
      "All               17018    8462  25480\n",
      "Year              16047    6915  22962\n",
      "Hour                747    1410   2157\n",
      "Week                169     103    272\n",
      "Month                55      34     89\n",
      "------------------------------------------------------------------------------------------------------------------------\n"
     ]
    },
    {
     "data": {
      "image/png": "[encoded data removed]",
      "text/plain": [
       "<Figure size 648x360 with 1 Axes>"
      ]
     },
     "metadata": {
      "needs_background": "light"
     },
     "output_type": "display_data"
    }
   ],
   "source": [
    "stacked_barplot(data, 'unit_of_wage', 'case_status') ##  plot stacked barplot for unit of wage and case status"
   ]
  },
  {
   "cell_type": "markdown",
   "id": "icaAgO2siAcs",
   "metadata": {
    "id": "icaAgO2siAcs"
   },
   "source": [
    "## Data Preprocessing"
   ]
  },
  {
   "cell_type": "markdown",
   "id": "allied-association",
   "metadata": {
    "id": "allied-association"
   },
   "source": [
    "### Outlier Check\n",
    "\n",
    "- Let's check for outliers in the data."
   ]
  },
  {
   "cell_type": "code",
   "execution_count": 37,
   "id": "a869eee6",
   "metadata": {},
   "outputs": [
    {
     "data": {
      "text/plain": [
       "3.0"
      ]
     },
     "execution_count": 37,
     "metadata": {},
     "output_type": "execute_result"
    }
   ],
   "source": [
    "np.floor(3.9999)"
   ]
  },
  {
   "cell_type": "code",
   "execution_count": 38,
   "id": "certified-complaint",
   "metadata": {
    "id": "certified-complaint"
   },
   "outputs": [
    {
     "name": "stdout",
     "output_type": "stream",
     "text": [
      "['no_of_employees', 'yr_of_estab', 'prevailing_wage']\n"
     ]
    },
    {
     "data": {
      "image/png": "[encoded data removed]",
      "text/plain": [
       "<Figure size 1080x864 with 3 Axes>"
      ]
     },
     "metadata": {
      "needs_background": "light"
     },
     "output_type": "display_data"
    }
   ],
   "source": [
    "# outlier detection using boxplot\n",
    "numeric_columns = data.select_dtypes(include=np.number).columns.tolist()\n",
    "print(numeric_columns)\n",
    "\n",
    "# plt.figure(figsize=(15, 12))\n",
    "fig, ax = plt.subplots(len(numeric_columns), 1, figsize=(15, 12))\n",
    "\n",
    "\n",
    "for idx, variable in enumerate(numeric_columns):\n",
    "    sns.boxplot(data=data, x=variable, ax=ax[idx])\n",
    "    ax[idx].set_title(variable)\n",
    "     ##  create boxplots for all the numeric columns\n",
    "# Adjust the spacing between subplots\n",
    "fig.tight_layout()\n",
    "plt.show()"
   ]
  },
  {
   "cell_type": "markdown",
   "id": "flexible-independence",
   "metadata": {
    "id": "flexible-independence"
   },
   "source": [
    "### Data Preparation for modeling\n",
    "\n",
    "- We want to predict which visa will be certified.\n",
    "- Before we proceed to build a model, we'll have to encode categorical features.\n",
    "- We'll split the data into train and test to be able to evaluate the model that we build on the train data."
   ]
  },
  {
   "cell_type": "code",
   "execution_count": 39,
   "id": "genuine-evening",
   "metadata": {
    "id": "genuine-evening"
   },
   "outputs": [],
   "source": [
    "data[\"case_status\"] = data[\"case_status\"].apply(lambda x: 1 if x == \"Certified\" else 0)\n",
    "\n",
    "X = data.drop(\n",
    "    \"case_status\", axis=1\n",
    ")  ##  drop case status from the data\n",
    "y = data[\"case_status\"]\n",
    "\n",
    "X = pd.get_dummies(X)  ##  create dummies for X\n",
    "\n",
    "# Splitting data in train and test sets\n",
    "X_train, X_test, y_train, y_test = train_test_split(\n",
    "    X, y, random_state=1, train_size=0.7, stratify=y\n",
    ")  ##  split the data into train and test in the ratio 70:30\n"
   ]
  },
  {
   "cell_type": "code",
   "execution_count": 40,
   "id": "empty-typing",
   "metadata": {
    "id": "empty-typing"
   },
   "outputs": [
    {
     "name": "stdout",
     "output_type": "stream",
     "text": [
      "Shape of Training set :  (17836, 28)\n",
      "Shape of test set :  (7644, 28)\n",
      "Percentage of classes in training set:\n",
      "1    0.667919\n",
      "0    0.332081\n",
      "Name: case_status, dtype: float64\n",
      "Percentage of classes in test set:\n",
      "1    0.667844\n",
      "0    0.332156\n",
      "Name: case_status, dtype: float64\n"
     ]
    }
   ],
   "source": [
    "print(\"Shape of Training set : \", X_train.shape)\n",
    "print(\"Shape of test set : \", X_test.shape)\n",
    "print(\"Percentage of classes in training set:\")\n",
    "print(y_train.value_counts(normalize=True))\n",
    "print(\"Percentage of classes in test set:\")\n",
    "print(y_test.value_counts(normalize=True))"
   ]
  }
 ],
 "metadata": {
  "colab": {
   "collapsed_sections": [
    "2xUfZBo9JM9e",
    "c1cd4628",
    "thorough-passion",
    "6vlJXoQkgcGI",
    "aboriginal-wrist",
    "accessory-camel",
    "assigned-berkeley",
    "standing-horizontal",
    "american-venue",
    "competent-timing",
    "cutting-bookmark",
    "wooden-christian",
    "comic-inventory",
    "metric-apparel",
    "bulgarian-parts",
    "editorial-command",
    "forbidden-kidney",
    "amateur-above",
    "attempted-burlington",
    "aging-curve",
    "stunning-surrey",
    "equivalent-aging",
    "dressed-excuse",
    "wound-communication",
    "theoretical-flexibility",
    "attended-current",
    "macro-decrease",
    "binding-charger",
    "lesser-bacteria",
    "changing-kansas",
    "suspected-asthma",
    "icaAgO2siAcs",
    "allied-association",
    "flexible-independence",
    "teKIRZIDdzpK",
    "71450807",
    "ICezcLI4iL0a",
    "blank-ballet",
    "increasing-diversity",
    "material-reduction",
    "protected-romantic",
    "FnQnoNOCiSwl",
    "aging-corruption",
    "suffering-growing",
    "verified-obligation",
    "increased-civilian",
    "protecting-douglas",
    "elegant-bookmark",
    "colonial-society",
    "possible-vinyl",
    "theoretical-poverty",
    "beneficial-bosnia",
    "joint-appendix",
    "joined-newman",
    "p33jg7JVid1H",
    "divine-legend",
    "grand-popularity",
    "french-breed",
    "increased-sharing",
    "adolescent-carroll",
    "fitting-cameroon",
    "married-terminal",
    "fiscal-language",
    "tribal-rainbow",
    "fuzzy-enemy",
    "standard-islam",
    "subsequent-royalty",
    "1415e2a1",
    "superior-letter",
    "muslim-machine",
    "advised-rabbit",
    "mobile-chosen",
    "psychological-plenty",
    "awful-judgment",
    "disciplinary-manhattan",
    "greek-jefferson",
    "corrected-agency",
    "mechanical-clarity",
    "stone-venezuela",
    "congressional-knock"
   ],
   "name": "DSBA_Project_EasyVisa_LowCode.ipynb",
   "provenance": []
  },
  "kernelspec": {
   "display_name": "base",
   "language": "python",
   "name": "python3"
  },
  "language_info": {
   "codemirror_mode": {
    "name": "ipython",
    "version": 3
   },
   "file_extension": ".py",
   "mimetype": "text/x-python",
   "name": "python",
   "nbconvert_exporter": "python",
   "pygments_lexer": "ipython3",
   "version": "3.9.7"
  },
  "vscode": {
   "interpreter": {
    "hash": "e4e7043c07997666e3970900f1ab1c37afd19540f897af75e9aea53ca6964679"
   }
  }
 },
 "nbformat": 4,
 "nbformat_minor": 5
}
